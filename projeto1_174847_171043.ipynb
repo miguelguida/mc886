{
 "cells": [
  {
   "cell_type": "markdown",
   "metadata": {},
   "source": [
    "# Projeto 1 - MC886\n",
    "\n",
    "## Objetivo\n",
    "Aplicar métodos de Aprendizado Não Supervisionado para resolver problemas de clusterização e redução de dimensionalidade em duas tarefas:\n",
    "<ul>\n",
    "    <li>Uma tarefa 2D (utilizando os dados fornecidos)</li>\n",
    "    <li>Uma tarefa com mais dimensões especificada pelo grupo (sendo necessário descrever o problema escolhido, as features utilizadas e o tamanho do dataset)</li>"
   ]
  },
  {
   "cell_type": "markdown",
   "metadata": {},
   "source": [
    "## Parte 1 - Métodos de Clusterização\n",
    "Nesta tarefa, implementamos os algoritmos K-Means e **X** utilizando os conceitos dados em aula e outras referências.\n",
    "Após a implementação, nos organizamos para treinar nosso modelo, e realizamos os seguintes procedimentos:\n",
    "<ul>\n",
    "    <li>Separamos nosso conjunto de dados entre treino e teste (90/10)</li>\n",
    "    <li>Normalizamos os dados para tratar as diferenças de escala entre nossas features</li>\n",
    "    <li>Treinamos os métodos na tarefa 2D com os dados fornecidos</li>\n",
    "    <li>Treinamos os métodos na tarefa selecionada pelo grupo</li>\n",
    "    <li>Avaliamos números diferentes de clusteres nas tarefas, e seu impacto para escolher a melhor configuração para nossos modelos </li>\n",
    "    <li>Utilizamos métricas apropriadas para avaliar os experimentos</li>\n",
    "    <li>Escolhemos os melhores modelos e aplicamos os dados de testes. Mostramos para quais clusteres os novos dados foram designados</li>\n",
    "</ul>\n"
   ]
  },
  {
   "cell_type": "markdown",
   "metadata": {},
   "source": [
    "### Tarefa selecionada\n",
    "    Para esta tarefa escolhemos o problema que envolve resultados uma análise química de vinhos, cultivados numa mesma região da Itália mas que derivam de 3 vinículas diferentes. \n",
    "    A análise determina as quantidades de 13 constituentes encontrados nos vinhos, que são:\n",
    "        Alcohol, Malic acid, Ash, Alcalinity of ash, Magnesium, Total phenols, Flavanoids, Nonflavanoid phenols, Proanthocyanins, Color intensity, Hue, OD280/OD315, Proline.\n",
    "    Fonte: https://towardsdatascience.com/k-means-clustering-of-wine-data-95bac074baae\n",
    "        \n",
    "    Dataset disponivel no Kaggle: https://www.kaggle.com/harrywang/wine-dataset-for-clustering"
   ]
  },
  {
   "cell_type": "code",
   "execution_count": 9,
   "metadata": {},
   "outputs": [],
   "source": [
    "import numpy as np\n",
    "from pylab import *\n",
    "import matplotlib.pyplot as plt\n",
    "from sklearn.preprocessing import StandardScaler\n",
    "from sklearn.decomposition import PCA\n",
    "from random import *\n",
    "import pandas as pd\n",
    "import sys\n",
    "\n",
    "# Separar dataset entre treino e teste\n",
    "\n",
    "# importa dataset cluster.dat\n",
    "def import_dataset():\n",
    "    with open('cluster.dat') as binary_file:\n",
    "        data = []\n",
    "        x = []\n",
    "        y = []\n",
    "        for d in binary_file:\n",
    "            string = d.split()\n",
    "            x.append(float(string[0]))\n",
    "            y.append(float(string[1]))\n",
    "    array = np.ndarray(shape=(len(x), 2), dtype=float)\n",
    "    for i in range(len(x)):\n",
    "        array[i][0] = x[i]\n",
    "        array[i][1] = y[i]\n",
    "    return array\n",
    "\n",
    "\n",
    "\n",
    "\n",
    "def import_wine_dataset():\n",
    "    wine_names = ['Class', 'Alcohol', 'Malic acid', 'Ash', 'Alcalinity of ash', 'Magnesium', 'Total phenols', \\\n",
    "                  'Flavanoids', 'Nonflavanoid phenols', 'Proanthocyanins', 'Color intensity', 'Hue', 'OD280/OD315',\\\n",
    "                  'Proline']\n",
    "    wine_data = pd.read_csv('https://archive.ics.uci.edu/ml/machine-learning-databases/wine/wine.data', names = wine_names) \n",
    "    wine_df = pd.DataFrame(wine_data)\n",
    "    wine_df.Class = wine_df.Class - 1 # formata a coluna \"Class\"\n",
    "\n",
    "    # wine_df.plot.scatter(x = 'Alcohol', y = 'OD280/OD315', c= 'Class', figsize=(12,8), colormap='jet')\n",
    "    # show()\n",
    "    # print(wine_df.to_numpy())\n",
    "    X_wine = wine_df[['Alcohol', 'Malic acid', 'Ash', 'Alcalinity of ash', 'Magnesium', 'Total phenols', \\\n",
    "                  'Flavanoids', 'Nonflavanoid phenols', 'Proanthocyanins', 'Color intensity', 'Hue', 'OD280/OD315',\\\n",
    "                  'Proline']]\n",
    "    Y_wine = wine_df[['Class']]\n",
    "    return X_wine.to_numpy(), X_wine.to_numpy()"
   ]
  },
  {
   "cell_type": "code",
   "execution_count": 11,
   "metadata": {},
   "outputs": [
    {
     "name": "stdout",
     "output_type": "stream",
     "text": [
      "(515, 2)\n",
      "(58, 2)\n",
      "(160, 13)\n",
      "(18, 13)\n"
     ]
    }
   ],
   "source": [
    "# Normaliza dados dos dois datasets\n",
    "\n",
    "X_array = import_dataset()\n",
    "W_array_x, W_array_y = import_wine_dataset()\n",
    "\n",
    "scaler = StandardScaler()\n",
    "\n",
    "scaler.fit(X_array)\n",
    "scaler.mean_\n",
    "X_array = scaler.transform(X_array)\n",
    "\n",
    "scaler.fit(W_array_x)\n",
    "scaler.mean_\n",
    "W_array_x = scaler.transform(W_array_x)"
   ]
  },
  {
   "cell_type": "code",
   "execution_count": null,
   "metadata": {},
   "outputs": [],
   "source": [
    "# Separa dataset entre dados de treino e teste ( 90/10 )\n",
    "\n",
    "X_treino, X_teste = train_test_split(X_array, test_size=0.1, random_state=42)\n",
    "print(X_treino.shape)\n",
    "print(X_teste.shape)\n",
    "\n",
    "W_treino, W_treino_y, W_teste, W_teste_y = train_test_split(W_array_x, W_array_y, test_size=0.1, random_state=42)\n",
    "print(W_treino.shape)\n",
    "print(W_teste.shape)"
   ]
  },
  {
   "cell_type": "code",
   "execution_count": null,
   "metadata": {},
   "outputs": [],
   "source": []
  },
  {
   "cell_type": "markdown",
   "metadata": {},
   "source": [
    "## Parte 2 - Redução de Dimensionalidade\n",
    "Utilizamos o método PCA para reduzir a dimensionalidade da tarefa escolhida pelo grupo, e comparamos o efeito de aplicar o K-Means em um conjunto de dados sem redução de dimensionalidade e outro com redução de dimensionalidade.\n",
    "Realizamos as seguintes tarefas:\n",
    "<ul>\n",
    "    <li>Rodamos o PCA nos dados, utilizando 3 energias (variâncias) diferentes para reduzir a dimensionalidade</li>\n",
    "    <li>Rodamos o K-Means com diferentes números de clusteres</li>\n",
    "    <li>Comparamos os resultados com os obtidos na Parte 1</li>\n",
    "</ul>\n"
   ]
  },
  {
   "cell_type": "markdown",
   "metadata": {},
   "source": [
    "## Discussão\n",
    "<ul>\n",
    "    <li>Como/se a normalização afetou nossos reultados</li>\n",
    "    <li>Se o número de clusteres encontrado representa bem nossos dados</li>\n",
    "    <li>Como/se a inicialização de \"centroides\" afeta a solução</li>\n",
    "    <li>As desvantagens de cada método</li>\n",
    "    <li>Como a redução de dimensionalidade afetou seus resultados</li>\n",
    "</ul>"
   ]
  }
 ],
 "metadata": {
  "kernelspec": {
   "display_name": "Python 3",
   "language": "python",
   "name": "python3"
  },
  "language_info": {
   "codemirror_mode": {
    "name": "ipython",
    "version": 3
   },
   "file_extension": ".py",
   "mimetype": "text/x-python",
   "name": "python",
   "nbconvert_exporter": "python",
   "pygments_lexer": "ipython3",
   "version": "3.7.6"
  }
 },
 "nbformat": 4,
 "nbformat_minor": 4
}
