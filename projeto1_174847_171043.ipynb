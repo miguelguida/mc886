{
 "cells": [
  {
   "cell_type": "markdown",
   "metadata": {},
   "source": [
    "# Projeto 1 - MC886\n",
    "\n",
    "## Objetivo\n",
    "Aplicar métodos de Aprendizado Não Supervisionado para resolver problemas de clusterização e redução de dimensionalidade em duas tarefas:\n",
    "<ul>\n",
    "    <li>Uma tarefa 2D (utilizando os dados fornecidos)</li>\n",
    "    <li>Uma tarefa com mais dimensões especificada pelo grupo (sendo necessário descrever o problema escolhido, as features utilizadas e o tamanho do dataset)</li>"
   ]
  },
  {
   "cell_type": "markdown",
   "metadata": {},
   "source": [
    "## Parte 1 - Métodos de Clusterização\n",
    "Nesta tarefa, implementamos os algoritmos K-Means e **X** utilizando os conceitos dados em aula e outras referências.\n",
    "Após a implementação, nos organizamos para treinar nosso modelo, e realizamos os seguintes procedimentos:\n",
    "<ul>\n",
    "    <li>Separamos nosso conjunto de dados entre treino e teste (90/10)</li>\n",
    "    <li>Normalizamos os dados para tratar as diferenças de escala entre nossas features</li>\n",
    "    <li>Treinamos os métodos na tarefa 2D com os dados fornecidos</li>\n",
    "    <li>Treinamos os métodos na tarefa selecionada pelo grupo</li>\n",
    "    <li>Avaliamos números diferentes de clusteres nas tarefas, e seu impacto para escolher a melhor configuração para nossos modelos </li>\n",
    "    <li>Utilizamos métricas apropriadas para avaliar os experimentos</li>\n",
    "    <li>Escolhemos os melhores modelos e aplicamos os dados de testes. Mostramos para quais clusteres os novos dados foram designados</li>\n",
    "</ul>\n"
   ]
  },
  {
   "cell_type": "markdown",
   "metadata": {},
   "source": [
    "## Parte 2 - Redução de Dimensionalidade\n",
    "Utilizamos o método PCA para reduzir a dimensionalidade da tarefa escolhida pelo grupo, e comparamos o efeito de aplicar o K-Means em um conjunto de dados sem redução de dimensionalidade e outro com redução de dimensionalidade.\n",
    "Realizamos as seguintes tarefas:\n",
    "<ul>\n",
    "    <li>Rodamos o PCA nos dados, utilizando 3 energias (variâncias) diferentes para reduzir a dimensionalidade</li>\n",
    "    <li>Rodamos o K-Means com diferentes números de clusteres</li>\n",
    "    <li>Comparamos os resultados com os obtidos na Parte 1</li>\n",
    "</ul>\n"
   ]
  },
  {
   "cell_type": "markdown",
   "metadata": {},
   "source": [
    "## Discussão\n",
    "<ul>\n",
    "    <li>Como/se a normalização afetou nossos reultados</li>\n",
    "    <li>Se o número de clusteres encontrado representa bem nossos dados</li>\n",
    "    <li>Como/se a inicialização de \"centroides\" afeta a solução</li>\n",
    "    <li>As desvantagens de cada método</li>\n",
    "    <li>Como a redução de dimensionalidade afetou seus resultados</li>\n",
    "</ul>"
   ]
  }
 ],
 "metadata": {
  "kernelspec": {
   "display_name": "Python 3",
   "language": "python",
   "name": "python3"
  },
  "language_info": {
   "codemirror_mode": {
    "name": "ipython",
    "version": 3
   },
   "file_extension": ".py",
   "mimetype": "text/x-python",
   "name": "python",
   "nbconvert_exporter": "python",
   "pygments_lexer": "ipython3",
   "version": "3.7.6"
  }
 },
 "nbformat": 4,
 "nbformat_minor": 4
}
